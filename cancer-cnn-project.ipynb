{
 "cells": [
  {
   "cell_type": "code",
   "execution_count": 1,
   "id": "28265b81",
   "metadata": {},
   "outputs": [],
   "source": [
    "import numpy as np \n",
    "import pandas as pd \n",
    "from sklearn.model_selection import train_test_split\n",
    "import tensorflow as tf\n",
    "from tensorflow.keras.preprocessing.image import ImageDataGenerator\n",
    "from tensorflow.keras import layers, models, Input, Model\n",
    "from tensorflow.keras.layers import Conv2D, MaxPooling2D, Flatten, Dense\n",
    "import os"
   ]
  },
  {
   "cell_type": "code",
   "execution_count": 2,
   "id": "e48cadd8",
   "metadata": {},
   "outputs": [],
   "source": [
    "df_labels = pd.read_csv('data/train_labels.csv')\n",
    "df_samples = pd.read_csv('data/sample_submission.csv')\n",
    "df_labels = df_labels[:1000]\n",
    "# df_samples = df_samples[:1000]\n",
    "test_data = df_samples\n",
    "train = \"data/train/\"\n",
    "test = \"data/test/\""
   ]
  },
  {
   "cell_type": "code",
   "execution_count": 3,
   "id": "823aee73",
   "metadata": {},
   "outputs": [],
   "source": [
    "np.int = np.int32\n",
    "np.float = np.float64\n",
    "np.bool = np.bool_"
   ]
  },
  {
   "cell_type": "code",
   "execution_count": 4,
   "id": "927fbd64",
   "metadata": {},
   "outputs": [],
   "source": [
    "train_data, val_data = train_test_split(df_labels, test_size=0.2, random_state=42, stratify=df_labels['label'])\n",
    "train_data = train_data.astype(str)\n",
    "val_data = val_data.astype(str)\n",
    "train_data['id'] += '.tif'\n",
    "val_data['id'] += '.tif'"
   ]
  },
  {
   "cell_type": "code",
   "execution_count": 5,
   "id": "a4d14ba4",
   "metadata": {},
   "outputs": [],
   "source": [
    "# test_data = df_samples.copy()\n",
    "test_data = test_data.astype(str)\n",
    "test_data['id'] += '.tif'"
   ]
  },
  {
   "cell_type": "code",
   "execution_count": 6,
   "id": "e0554d78",
   "metadata": {},
   "outputs": [],
   "source": [
    "train_datagen = ImageDataGenerator(rescale=1./255, shear_range=0.2, zoom_range=0.2, horizontal_flip=True)\n",
    "val_datagen = ImageDataGenerator(rescale=1./255)\n",
    "test_datagen = ImageDataGenerator(rescale=1./255)"
   ]
  },
  {
   "cell_type": "code",
   "execution_count": 7,
   "id": "fa4e1967",
   "metadata": {},
   "outputs": [],
   "source": [
    "def create_cnn_classifier(input_shape):\n",
    "    inputs = Input(shape=input_shape)\n",
    "    x = Conv2D(32, kernel_size=3, activation='relu')(inputs)\n",
    "    x = MaxPooling2D(pool_size=(2, 2))(x)\n",
    "    x = Conv2D(64, kernel_size=3, activation='relu')(x)\n",
    "    x = MaxPooling2D(pool_size=(2, 2))(x)\n",
    "    x = Flatten()(x)\n",
    "    x = Dense(128, activation='relu')(x)\n",
    "    outputs = Dense(1, activation='sigmoid')(x)  # Assuming binary classification\n",
    "    model = Model(inputs, outputs)\n",
    "    model.compile(optimizer='adam', loss='binary_crossentropy', metrics=['accuracy'])\n",
    "    return model"
   ]
  },
  {
   "cell_type": "code",
   "execution_count": 8,
   "id": "694ebc5c",
   "metadata": {},
   "outputs": [
    {
     "name": "stdout",
     "output_type": "stream",
     "text": [
      "Found 800 validated image filenames belonging to 2 classes.\n",
      "Found 200 validated image filenames belonging to 2 classes.\n"
     ]
    }
   ],
   "source": [
    "input_shape = (96, 96, 3)\n",
    "cnn_model = create_cnn_classifier(input_shape)\n",
    "train_generator = train_datagen.flow_from_dataframe(\n",
    "    dataframe=train_data,\n",
    "    directory=train,\n",
    "    x_col='id',\n",
    "    y_col='label',\n",
    "    target_size=(96, 96),\n",
    "    batch_size=32,\n",
    "    class_mode='binary'\n",
    ")\n",
    "val_generator = val_datagen.flow_from_dataframe(\n",
    "    dataframe=val_data,\n",
    "    directory=train,\n",
    "    x_col='id',\n",
    "    y_col='label',\n",
    "    target_size=(96, 96),\n",
    "    batch_size=32,\n",
    "    class_mode='binary'\n",
    ")"
   ]
  },
  {
   "cell_type": "code",
   "execution_count": 9,
   "id": "a1e60def",
   "metadata": {},
   "outputs": [
    {
     "name": "stdout",
     "output_type": "stream",
     "text": [
      "Epoch 1/10\n",
      " 25/100 [======>.......................] - ETA: 15s - loss: 0.8748 - accuracy: 0.6075WARNING:tensorflow:Your input ran out of data; interrupting training. Make sure that your dataset or generator can generate at least `steps_per_epoch * epochs` batches (in this case, 1000 batches). You may need to use the repeat() function when building your dataset.\n",
      "WARNING:tensorflow:Your input ran out of data; interrupting training. Make sure that your dataset or generator can generate at least `steps_per_epoch * epochs` batches (in this case, 50 batches). You may need to use the repeat() function when building your dataset.\n",
      "100/100 [==============================] - 7s 65ms/step - loss: 0.8748 - accuracy: 0.6075 - val_loss: 0.8404 - val_accuracy: 0.5550\n"
     ]
    },
    {
     "data": {
      "text/plain": [
       "<keras.src.callbacks.History at 0x1c2d5e7b2e0>"
      ]
     },
     "execution_count": 9,
     "metadata": {},
     "output_type": "execute_result"
    }
   ],
   "source": [
    "cnn_model.fit(\n",
    "    train_generator,\n",
    "    steps_per_epoch=100,\n",
    "    epochs=10,\n",
    "    validation_data=val_generator,\n",
    "    validation_steps=50\n",
    ")"
   ]
  },
  {
   "cell_type": "code",
   "execution_count": 10,
   "id": "00a275eb",
   "metadata": {},
   "outputs": [
    {
     "name": "stdout",
     "output_type": "stream",
     "text": [
      "Found 57458 validated image filenames.\n"
     ]
    }
   ],
   "source": [
    "test_generator = test_datagen.flow_from_dataframe(\n",
    "    dataframe=test_data,\n",
    "    directory=test,  # Make sure this is the correct path to your test images\n",
    "    x_col='id',       # This column should contain the image file names\n",
    "    y_col=None,       # No target column as there are no labels\n",
    "    class_mode=None,  # No labels\n",
    "    target_size=(96, 96),\n",
    "    batch_size=32,\n",
    "    shuffle=False     # Keep order, important for matching predictions with submission file IDs\n",
    ")"
   ]
  },
  {
   "cell_type": "code",
   "execution_count": 13,
   "id": "73f693c4",
   "metadata": {},
   "outputs": [
    {
     "name": "stdout",
     "output_type": "stream",
     "text": [
      "1796/1796 [==============================] - 42s 23ms/step\n"
     ]
    }
   ],
   "source": [
    "predictions = cnn_model.predict(test_generator, steps=len(test_generator))\n",
    "test_ids = [os.path.splitext(os.path.basename(filename))[0] for filename in test_generator.filenames]\n",
    "\n",
    "# Creating a DataFrame for submission\n",
    "submission_df = pd.DataFrame({\n",
    "    'id': test_ids,\n",
    "    'label': predictions.flatten()  # Flatten the predictions array if needed\n",
    "})\n",
    "submission_df.to_csv('submission.csv', index=False)"
   ]
  },
  {
   "cell_type": "code",
   "execution_count": null,
   "id": "bfa581c3",
   "metadata": {},
   "outputs": [],
   "source": []
  }
 ],
 "metadata": {
  "kernelspec": {
   "display_name": "Python 3",
   "language": "python",
   "name": "python3"
  },
  "language_info": {
   "codemirror_mode": {
    "name": "ipython",
    "version": 3
   },
   "file_extension": ".py",
   "mimetype": "text/x-python",
   "name": "python",
   "nbconvert_exporter": "python",
   "pygments_lexer": "ipython3",
   "version": "3.8.8"
  }
 },
 "nbformat": 4,
 "nbformat_minor": 5
}
